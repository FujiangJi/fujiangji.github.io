{
 "cells": [
  {
   "cell_type": "markdown",
   "id": "1f780f87",
   "metadata": {},
   "source": [
    "### 1. Ways to generate axes"
   ]
  },
  {
   "cell_type": "code",
   "execution_count": null,
   "id": "7e182cfd",
   "metadata": {
    "ExecuteTime": {
     "end_time": "2024-04-24T21:02:28.344164Z",
     "start_time": "2024-04-24T21:02:27.624350Z"
    },
    "scrolled": true
   },
   "outputs": [],
   "source": [
    "\"\"\"\n",
    "1.1 plt.subplots\n",
    "fig,ax = plt.subplots(nrows, ncols, figsize=(width, height), dpi, sharex=False, sharey=False, **kwargs)\n",
    "Parameters:\n",
    "------------------------------\n",
    "  - fig: figure\n",
    "  - ax: axes or array of Axes.\n",
    "  - dpi: the resolution of figure.\n",
    "  - nrows/ncols: number of rows/columns of the subplot grid.\n",
    "  - sharex/sharey: bool, default: False.\n",
    "                   Controls sharing of properties among x (sharex) or y (sharey) axes:\n",
    "  - figsize: the size of the created figure (Width, height) in inches (float, float).\n",
    "  - **kwargs: other parameters such as squeeze, width_ratios, height_ratios, subplot_kw, \n",
    "              gridspec_kw, etc. that are passed to the pyplot.figure call\n",
    "\"\"\"\n",
    "\n",
    "import matplotlib.pyplot as plt\n",
    "# generate a single axes figure (output1).\n",
    "fig, ax = plt.subplots(1,1, figsize=(2, 2), dpi=100)\n",
    "# generate a two rows and two columns axes fugure (output2). \n",
    "# ax[0] (1st row, 1st coloumn), ax[1] (1st row, 2nd coloumn) (1st row, 1st coloumn), ax[2], ax[3] represent each axes.\n",
    "fig, ax = plt.subplots(2,2, figsize=(3, 3), dpi=100)\n",
    "# initialize the axes.\n",
    "config = {\"font.family\":'Helvetica'}\n",
    "plt.subplots_adjust(wspace = 0.1,hspace = 0.1)\n",
    "plt.rcParams.update(config)\n",
    "\n",
    "# generate a two rows and two columns axes fugure. \n",
    "# ax1 (1st row, 1st coloumn), ax2 (1st row, 2nd coloumn) (1st row, 1st coloumn), ax3, ax4 represent each axes.\n",
    "fig, ([ax1,ax2],[ax3,ax4]) = plt.subplots(2,2, figsize=(3, 3), dpi=100)\n",
    "# all the ases share the same x and y label (output3).\n",
    "fig.text(0.5, 0, 'x', ha='center')\n",
    "fig.text(0, 0.5, 'y', va='center',rotation='vertical')"
   ]
  },
  {
   "cell_type": "code",
   "execution_count": 44,
   "id": "cccd9c24",
   "metadata": {
    "ExecuteTime": {
     "end_time": "2024-04-24T21:23:13.639959Z",
     "start_time": "2024-04-24T21:23:13.139716Z"
    },
    "scrolled": false
   },
   "outputs": [
    {
     "data": {
      "image/png": "[encoded data removed]",
      "text/plain": [
       "<Figure size 300x300 with 4 Axes>"
      ]
     },
     "metadata": {},
     "output_type": "display_data"
    },
    {
     "data": {
      "image/png": "[encoded data removed]",
      "text/plain": [
       "<Figure size 300x300 with 4 Axes>"
      ]
     },
     "metadata": {},
     "output_type": "display_data"
    }
   ],
   "source": [
    "\"\"\"\n",
    "1.2 plt.figure\n",
    "fig = plt.figure(figsize=None, dpi=None, facecolor=None, edgecolor=None, frameon=True, **kwargs)\n",
    "Parameters:\n",
    "------------------------------\n",
    "- fig: figure\n",
    "- dpi: the resolution of figure.\n",
    "- figsize: the size of the created figure (Width, height) in inches (float, float).\n",
    "- dpi:the resolution of the figure in dots-per-inch.\n",
    "- facecolorcolor: the background color.\n",
    "- edgecolorcolor: the border color.\n",
    "- frameonbool, default: True. If False, suppress drawing the figure frame.\n",
    "- **kwargs: additional keyword arguments are passed to the Figure constructor.\n",
    "------------------------------\n",
    "Useful for iteratively figure plotting.\n",
    "\n",
    "\"\"\"\n",
    "\n",
    "import matplotlib.pyplot as plt\n",
    "\n",
    "# plot a 2*2 axes figure with 100 dpi (output 1).\n",
    "fig = plt.figure(figsize=(3,3), dpi=100)\n",
    "config = {\"font.family\":'Helvetica'}\n",
    "plt.subplots_adjust(wspace =0.4,hspace =0.3)\n",
    "plt.rcParams.update(config)\n",
    "for i in range(4):\n",
    "    ax = fig.add_subplot(2,2,i+1)\n",
    "\n",
    "# plot a 2*2 axes figure with 100 dpi, yellow face and edgecolor (output 2).\n",
    "fig = plt.figure(figsize=(3,3), dpi=100, facecolor=\"y\", edgecolor=\"y\")\n",
    "config = {\"font.family\":'Helvetica'}\n",
    "plt.subplots_adjust(wspace =0.4,hspace =0.3)\n",
    "plt.rcParams.update(config)\n",
    "for i in range(4):\n",
    "    ax = fig.add_subplot(2,2,i+1)"
   ]
  },
  {
   "cell_type": "code",
   "execution_count": 70,
   "id": "5028b740",
   "metadata": {
    "ExecuteTime": {
     "end_time": "2024-04-24T21:51:35.315808Z",
     "start_time": "2024-04-24T21:51:35.013376Z"
    }
   },
   "outputs": [
    {
     "data": {
      "image/png": "[encoded data removed]",
      "text/plain": [
       "<Figure size 800x200 with 4 Axes>"
      ]
     },
     "metadata": {},
     "output_type": "display_data"
    }
   ],
   "source": [
    "\"\"\"\n",
    "1.3 plt.figure & GridSpec\n",
    "gs = gridspec.GridSpec(nrows, ncols)\n",
    "A grid layout to place subplots within a figure.\n",
    "Parameters:\n",
    "------------------------------\n",
    "- nrows/ncols: the number of rows and columns of the grid (int).\n",
    "- other parameters: https://matplotlib.org/stable/api/_as_gen/matplotlib.gridspec.GridSpec.html\n",
    "- detailed tutorial: https://matplotlib.org/3.5.0/tutorials/intermediate/gridspec.html\n",
    "------------------------------\n",
    "Useful for plotting irregular axes.\n",
    "Useful for iteratively figure plotting.\n",
    "\n",
    "\"\"\"\n",
    "\n",
    "import matplotlib.pyplot as plt\n",
    "from matplotlib import gridspec\n",
    "\n",
    "# plot a 1*4 axes figure with 100 dpi using GridSpec\n",
    "fig = plt.figure(figsize=(8,2), dpi=100)\n",
    "gs = gridspec.GridSpec(2, 8)\n",
    "config = {\"font.family\":'Helvetica'}\n",
    "plt.subplots_adjust(wspace =0.7,hspace =0.1)\n",
    "plt.rcParams.update(config)\n",
    "\n",
    "# can also use interative loop to generate axes.\n",
    "ax1 = plt.subplot(gs[0:2, 0:2])\n",
    "ax2 = plt.subplot(gs[0:2, 2:4])\n",
    "ax3 = plt.subplot(gs[0:2, 4:6])\n",
    "ax4 = plt.subplot(gs[0:2, 6:8])\n"
   ]
  },
  {
   "cell_type": "markdown",
   "id": "f67bf393",
   "metadata": {},
   "source": [
    "### 2. Axes parameter settings.\n",
    "- axis; visble or not.\n",
    "- labels;\n",
    "- ticks, ticklabels, tick ranges.\n",
    "- spines"
   ]
  },
  {
   "cell_type": "code",
   "execution_count": null,
   "id": "5d7465d0",
   "metadata": {},
   "outputs": [],
   "source": [
    "ax.set_xlabel('Mean Annual Temperature (°C)', fontsize=9, fontweight = 'bold', labelpad = 0.2)\n",
    "ax.set_ylabel('Mean Annual Temperature (°C)', fontsize=9, labelpad = 0.2)\n",
    "ax1.tick_params(labelsize=8)\n",
    "ax2.set_xticklabels(squad)\n",
    "ax1.tick_params(axis = 'x',labelsize=8)\n",
    "ax.set_xlim(0,lim)\n",
    "ax.set_ylim(0,lim)"
   ]
  },
  {
   "cell_type": "markdown",
   "id": "fd467f3b",
   "metadata": {
    "ExecuteTime": {
     "end_time": "2024-04-25T00:02:03.694280Z",
     "start_time": "2024-04-25T00:02:03.679788Z"
    }
   },
   "source": [
    "### 3. Legend parameter settings\n",
    "https://www.cnblogs.com/shanger/p/13021463.html,\n",
    "https://blog.csdn.net/qq_33221533/article/details/81431264"
   ]
  },
  {
   "cell_type": "markdown",
   "id": "4eee20cf",
   "metadata": {},
   "source": [
    "#### colorbars"
   ]
  },
  {
   "cell_type": "markdown",
   "id": "b6a96333",
   "metadata": {},
   "source": [
    "### 4. scatterplot\n",
    "### 5. lineplot\n",
    "### 6. boxplot\n",
    "### 7. regplot\n",
    "### 8. heatmap\n",
    "### sns, matplotlib"
   ]
  },
  {
   "cell_type": "markdown",
   "id": "9fb35412",
   "metadata": {},
   "source": [
    "### 9. cartopy\n",
    "- basemap.\n",
    "- lon & lat grids"
   ]
  },
  {
   "cell_type": "code",
   "execution_count": 3,
   "id": "50c483c3",
   "metadata": {
    "ExecuteTime": {
     "end_time": "2024-05-20T18:47:57.317353Z",
     "start_time": "2024-05-20T18:47:56.151583Z"
    }
   },
   "outputs": [
    {
     "data": {
      "image/png": "[encoded data removed]",
      "text/plain": [
       "<Figure size 640x480 with 1 Axes>"
      ]
     },
     "metadata": {},
     "output_type": "display_data"
    }
   ],
   "source": [
    "import cartopy.crs as ccrs\n",
    "import cartopy.feature as cf\n",
    "import matplotlib.pyplot as plt\n",
    "\n",
    "\n",
    "fig,ax = plt.subplots()"
   ]
  },
  {
   "cell_type": "markdown",
   "id": "5a4c95b0",
   "metadata": {},
   "source": []
  },
  {
   "cell_type": "code",
   "execution_count": null,
   "id": "20e297f4",
   "metadata": {},
   "outputs": [],
   "source": []
  },
  {
   "cell_type": "markdown",
   "id": "9814d5d9",
   "metadata": {},
   "source": [
    "### each type of color give examples."
   ]
  },
  {
   "cell_type": "markdown",
   "id": "fe1a04f8",
   "metadata": {},
   "source": [
    "#### Go through all the code writing before first. <i>Then</i>, browse on Internet to check if there are other parameters that haven't been considered"
   ]
  },
  {
   "cell_type": "markdown",
   "id": "43a1e1be",
   "metadata": {},
   "source": [
    "#### A section that exhibited the beautiful colors, platte maps, color blindness friendly colors instructions (NP autor guidelines)\n",
    "####  colour-blind safe palette; https://davidmathlogic.com/colorblind/#%23D81B60-%231E88E5-%23FFC107-%23004D40"
   ]
  },
  {
   "cell_type": "markdown",
   "id": "9c4ed761",
   "metadata": {
    "ExecuteTime": {
     "end_time": "2024-04-25T00:15:11.055615Z",
     "start_time": "2024-04-25T00:15:11.038462Z"
    }
   },
   "source": [
    "### Machine learning models implications."
   ]
  },
  {
   "cell_type": "code",
   "execution_count": null,
   "id": "251599cb",
   "metadata": {},
   "outputs": [],
   "source": []
  }
 ],
 "metadata": {
  "kernelspec": {
   "display_name": "Python 3 (ipykernel)",
   "language": "python",
   "name": "python3"
  },
  "language_info": {
   "codemirror_mode": {
    "name": "ipython",
    "version": 3
   },
   "file_extension": ".py",
   "mimetype": "text/x-python",
   "name": "python",
   "nbconvert_exporter": "python",
   "pygments_lexer": "ipython3",
   "version": "3.7.13"
  },
  "toc": {
   "base_numbering": 1,
   "nav_menu": {},
   "number_sections": false,
   "sideBar": true,
   "skip_h1_title": false,
   "title_cell": "Table of Contents",
   "title_sidebar": "Contents",
   "toc_cell": false,
   "toc_position": {
    "height": "calc(100% - 180px)",
    "left": "10px",
    "top": "150px",
    "width": "256px"
   },
   "toc_section_display": true,
   "toc_window_display": false
  }
 },
 "nbformat": 4,
 "nbformat_minor": 5
}
